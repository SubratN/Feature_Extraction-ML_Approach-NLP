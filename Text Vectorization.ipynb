{
 "cells": [
  {
   "cell_type": "code",
   "execution_count": 1,
   "id": "da68e6ca",
   "metadata": {},
   "outputs": [],
   "source": [
    "import pandas as pd\n",
    "import numpy as np"
   ]
  },
  {
   "cell_type": "code",
   "execution_count": 28,
   "id": "98f022e7",
   "metadata": {},
   "outputs": [
    {
     "data": {
      "text/html": [
       "<div>\n",
       "<style scoped>\n",
       "    .dataframe tbody tr th:only-of-type {\n",
       "        vertical-align: middle;\n",
       "    }\n",
       "\n",
       "    .dataframe tbody tr th {\n",
       "        vertical-align: top;\n",
       "    }\n",
       "\n",
       "    .dataframe thead th {\n",
       "        text-align: right;\n",
       "    }\n",
       "</style>\n",
       "<table border=\"1\" class=\"dataframe\">\n",
       "  <thead>\n",
       "    <tr style=\"text-align: right;\">\n",
       "      <th></th>\n",
       "      <th>text</th>\n",
       "      <th>output</th>\n",
       "    </tr>\n",
       "  </thead>\n",
       "  <tbody>\n",
       "    <tr>\n",
       "      <th>0</th>\n",
       "      <td>Bill watch movie</td>\n",
       "      <td>1</td>\n",
       "    </tr>\n",
       "    <tr>\n",
       "      <th>1</th>\n",
       "      <td>Movie watch movie</td>\n",
       "      <td>1</td>\n",
       "    </tr>\n",
       "    <tr>\n",
       "      <th>2</th>\n",
       "      <td>People write comment</td>\n",
       "      <td>0</td>\n",
       "    </tr>\n",
       "    <tr>\n",
       "      <th>3</th>\n",
       "      <td>comment write people</td>\n",
       "      <td>0</td>\n",
       "    </tr>\n",
       "  </tbody>\n",
       "</table>\n",
       "</div>"
      ],
      "text/plain": [
       "                   text  output\n",
       "0      Bill watch movie       1\n",
       "1     Movie watch movie       1\n",
       "2  People write comment       0\n",
       "3  comment write people       0"
      ]
     },
     "execution_count": 28,
     "metadata": {},
     "output_type": "execute_result"
    }
   ],
   "source": [
    "df = pd.DataFrame({'text':['Bill watch movie',\n",
    "                     'Movie watch movie',\n",
    "                     'People write comment',\n",
    "                     'comment write people'],\n",
    "             'output':[1,1,0,0]})\n",
    "df"
   ]
  },
  {
   "cell_type": "markdown",
   "id": "a9000f32",
   "metadata": {},
   "source": [
    "## Text Vectorization using BagofWords"
   ]
  },
  {
   "cell_type": "code",
   "execution_count": 3,
   "id": "07ffbfac",
   "metadata": {},
   "outputs": [],
   "source": [
    "from sklearn.feature_extraction.text import CountVectorizer"
   ]
  },
  {
   "cell_type": "code",
   "execution_count": 67,
   "id": "d06ff8b8",
   "metadata": {},
   "outputs": [],
   "source": [
    "cv = CountVectorizer()"
   ]
  },
  {
   "cell_type": "code",
   "execution_count": 68,
   "id": "bbb58216",
   "metadata": {},
   "outputs": [],
   "source": [
    "bow = cv.fit_transform(df['text'])"
   ]
  },
  {
   "cell_type": "code",
   "execution_count": 69,
   "id": "f57eb3d2",
   "metadata": {},
   "outputs": [
    {
     "data": {
      "text/plain": [
       "{'this': 6,\n",
       " 'is': 2,\n",
       " 'good': 1,\n",
       " 'place': 5,\n",
       " 'not': 3,\n",
       " 'people': 4,\n",
       " 'write': 7,\n",
       " 'comment': 0}"
      ]
     },
     "execution_count": 69,
     "metadata": {},
     "output_type": "execute_result"
    }
   ],
   "source": [
    "# vocabulary\n",
    "\n",
    "cv.vocabulary_"
   ]
  },
  {
   "cell_type": "code",
   "execution_count": 70,
   "id": "67e56c03",
   "metadata": {},
   "outputs": [
    {
     "name": "stdout",
     "output_type": "stream",
     "text": [
      "[[0 1 1 0 0 1 1 0]]\n",
      "[[0 1 1 1 0 1 1 0]]\n"
     ]
    }
   ],
   "source": [
    "print(bow[0].toarray())\n",
    "print(bow[1].toarray())"
   ]
  },
  {
   "cell_type": "code",
   "execution_count": 76,
   "id": "a20e891f",
   "metadata": {},
   "outputs": [
    {
     "name": "stdout",
     "output_type": "stream",
     "text": [
      "[[1 1 0 0 1 0 0 1]]\n",
      "[[1 1 0 0 1 0 0 1]]\n"
     ]
    }
   ],
   "source": [
    "print(cv.transform(['Watch good people And Write Comment']).toarray())\n",
    "print(cv.transform(['Dont Watch good people And dont Write Comment']).toarray())"
   ]
  },
  {
   "cell_type": "markdown",
   "id": "440c917e",
   "metadata": {},
   "source": [
    "- As we can see above using BOW with unigram the semantic meaning of the sentences are not well captured.\n",
    "- For that we use BOW with n-grams which can able to capture the semantice meaning of the sentences."
   ]
  },
  {
   "cell_type": "markdown",
   "id": "3e7eb1d4",
   "metadata": {},
   "source": [
    "## Using N-grams"
   ]
  },
  {
   "cell_type": "code",
   "execution_count": 92,
   "id": "61fdc43b",
   "metadata": {},
   "outputs": [
    {
     "data": {
      "text/html": [
       "<div>\n",
       "<style scoped>\n",
       "    .dataframe tbody tr th:only-of-type {\n",
       "        vertical-align: middle;\n",
       "    }\n",
       "\n",
       "    .dataframe tbody tr th {\n",
       "        vertical-align: top;\n",
       "    }\n",
       "\n",
       "    .dataframe thead th {\n",
       "        text-align: right;\n",
       "    }\n",
       "</style>\n",
       "<table border=\"1\" class=\"dataframe\">\n",
       "  <thead>\n",
       "    <tr style=\"text-align: right;\">\n",
       "      <th></th>\n",
       "      <th>text</th>\n",
       "      <th>output</th>\n",
       "    </tr>\n",
       "  </thead>\n",
       "  <tbody>\n",
       "    <tr>\n",
       "      <th>0</th>\n",
       "      <td>This is a good place</td>\n",
       "      <td>1</td>\n",
       "    </tr>\n",
       "    <tr>\n",
       "      <th>1</th>\n",
       "      <td>This is not a good place</td>\n",
       "      <td>1</td>\n",
       "    </tr>\n",
       "    <tr>\n",
       "      <th>2</th>\n",
       "      <td>People write comment</td>\n",
       "      <td>0</td>\n",
       "    </tr>\n",
       "    <tr>\n",
       "      <th>3</th>\n",
       "      <td>Bill watch movie</td>\n",
       "      <td>0</td>\n",
       "    </tr>\n",
       "  </tbody>\n",
       "</table>\n",
       "</div>"
      ],
      "text/plain": [
       "                       text  output\n",
       "0      This is a good place       1\n",
       "1  This is not a good place       1\n",
       "2      People write comment       0\n",
       "3          Bill watch movie       0"
      ]
     },
     "execution_count": 92,
     "metadata": {},
     "output_type": "execute_result"
    }
   ],
   "source": [
    "df = pd.DataFrame({'text':['This is a good place',\n",
    "                     'This is not a good place',\n",
    "                     'People write comment',\n",
    "                     'Bill watch movie'],\n",
    "             'output':[1,1,0,0]})\n",
    "df"
   ]
  },
  {
   "cell_type": "code",
   "execution_count": 93,
   "id": "e12b0f47",
   "metadata": {},
   "outputs": [],
   "source": [
    "# BOW with bi-gram\n",
    "\n",
    "cvbi = CountVectorizer(ngram_range=(2,2))"
   ]
  },
  {
   "cell_type": "code",
   "execution_count": 94,
   "id": "a4d434d1",
   "metadata": {},
   "outputs": [],
   "source": [
    "bow = cvbi.fit_transform(df['text'])"
   ]
  },
  {
   "cell_type": "code",
   "execution_count": 95,
   "id": "73131e66",
   "metadata": {},
   "outputs": [
    {
     "name": "stdout",
     "output_type": "stream",
     "text": [
      "{'this is': 6, 'is good': 2, 'good place': 1, 'is not': 3, 'not good': 4, 'people write': 5, 'write comment': 8, 'bill watch': 0, 'watch movie': 7}\n"
     ]
    }
   ],
   "source": [
    "print(cvbi.vocabulary_)"
   ]
  },
  {
   "cell_type": "code",
   "execution_count": 96,
   "id": "9c949ed1",
   "metadata": {},
   "outputs": [
    {
     "name": "stdout",
     "output_type": "stream",
     "text": [
      "[[0 1 1 0 0 0 1 0 0]]\n",
      "[[0 1 0 1 1 0 1 0 0]]\n"
     ]
    }
   ],
   "source": [
    "print(bow[0].toarray())\n",
    "print(bow[1].toarray())"
   ]
  },
  {
   "cell_type": "code",
   "execution_count": 99,
   "id": "6a23df9f",
   "metadata": {},
   "outputs": [
    {
     "name": "stdout",
     "output_type": "stream",
     "text": [
      "[[0 0 0 0 0 1 0 0 1]]\n",
      "[[0 0 0 0 0 0 0 1 0]]\n"
     ]
    }
   ],
   "source": [
    "print(cvbi.transform(['people write comment']).toarray())\n",
    "print(cvbi.transform(['people watch movie']).toarray())"
   ]
  },
  {
   "cell_type": "code",
   "execution_count": 100,
   "id": "30d7904c",
   "metadata": {},
   "outputs": [],
   "source": [
    "# BOW using tri-grams\n",
    "\n",
    "cvtri = CountVectorizer(ngram_range=(3,3))"
   ]
  },
  {
   "cell_type": "code",
   "execution_count": 101,
   "id": "0b160b2a",
   "metadata": {},
   "outputs": [],
   "source": [
    "bow = cvtri.fit_transform(df['text'])"
   ]
  },
  {
   "cell_type": "code",
   "execution_count": 102,
   "id": "1b737aec",
   "metadata": {},
   "outputs": [
    {
     "name": "stdout",
     "output_type": "stream",
     "text": [
      "{'this is good': 5, 'is good place': 1, 'this is not': 6, 'is not good': 2, 'not good place': 3, 'people write comment': 4, 'bill watch movie': 0}\n"
     ]
    }
   ],
   "source": [
    "print(cvtri.vocabulary_)"
   ]
  },
  {
   "cell_type": "code",
   "execution_count": 106,
   "id": "43d89708",
   "metadata": {},
   "outputs": [
    {
     "name": "stdout",
     "output_type": "stream",
     "text": [
      "[[0 1 0 0 0 1 0]]\n",
      "[[0 0 1 1 0 0 1]]\n"
     ]
    }
   ],
   "source": [
    "print(bow[0].toarray())\n",
    "print(bow[1].toarray())"
   ]
  },
  {
   "cell_type": "code",
   "execution_count": 114,
   "id": "650fbd25",
   "metadata": {
    "scrolled": true
   },
   "outputs": [
    {
     "name": "stdout",
     "output_type": "stream",
     "text": [
      "[[1 1 0 0 0 1 0]]\n",
      "[[0 0 1 1 0 0 1]]\n"
     ]
    }
   ],
   "source": [
    "print(cvtri.transform(['This is a good place and Bill watch movie']).toarray())\n",
    "print(cvtri.transform(['This is not a good place and Bill dont watch movie']).toarray())"
   ]
  },
  {
   "cell_type": "markdown",
   "id": "dac7fac8",
   "metadata": {},
   "source": [
    "- N-grams is able to capture the semantice meaning of the sentences"
   ]
  },
  {
   "cell_type": "markdown",
   "id": "d6d5289a",
   "metadata": {},
   "source": [
    "## Using TF-IDF"
   ]
  },
  {
   "cell_type": "code",
   "execution_count": 115,
   "id": "0aa8c7b9",
   "metadata": {},
   "outputs": [],
   "source": [
    "from sklearn.feature_extraction.text import TfidfVectorizer"
   ]
  },
  {
   "cell_type": "code",
   "execution_count": 116,
   "id": "8a4f49ab",
   "metadata": {},
   "outputs": [],
   "source": [
    "tfidf = TfidfVectorizer()"
   ]
  },
  {
   "cell_type": "code",
   "execution_count": 118,
   "id": "a87b8909",
   "metadata": {},
   "outputs": [
    {
     "data": {
      "text/plain": [
       "array([[0.        , 0.        , 0.5       , 0.5       , 0.        ,\n",
       "        0.        , 0.        , 0.5       , 0.5       , 0.        ,\n",
       "        0.        ],\n",
       "       [0.        , 0.        , 0.4222466 , 0.4222466 , 0.        ,\n",
       "        0.53556627, 0.        , 0.4222466 , 0.4222466 , 0.        ,\n",
       "        0.        ],\n",
       "       [0.        , 0.57735027, 0.        , 0.        , 0.        ,\n",
       "        0.        , 0.57735027, 0.        , 0.        , 0.        ,\n",
       "        0.57735027],\n",
       "       [0.57735027, 0.        , 0.        , 0.        , 0.57735027,\n",
       "        0.        , 0.        , 0.        , 0.        , 0.57735027,\n",
       "        0.        ]])"
      ]
     },
     "execution_count": 118,
     "metadata": {},
     "output_type": "execute_result"
    }
   ],
   "source": [
    "tfidf.fit_transform(df['text']).toarray()"
   ]
  },
  {
   "cell_type": "code",
   "execution_count": 122,
   "id": "bd2d74a4",
   "metadata": {},
   "outputs": [
    {
     "name": "stdout",
     "output_type": "stream",
     "text": [
      "['bill', 'comment', 'good', 'is', 'movie', 'not', 'people', 'place', 'this', 'watch', 'write']\n",
      "[1.91629073 1.91629073 1.51082562 1.51082562 1.91629073 1.91629073\n",
      " 1.91629073 1.51082562 1.51082562 1.91629073 1.91629073]\n"
     ]
    },
    {
     "name": "stderr",
     "output_type": "stream",
     "text": [
      "C:\\Users\\Subrat\\anaconda3\\lib\\site-packages\\sklearn\\utils\\deprecation.py:87: FutureWarning: Function get_feature_names is deprecated; get_feature_names is deprecated in 1.0 and will be removed in 1.2. Please use get_feature_names_out instead.\n",
      "  warnings.warn(msg, category=FutureWarning)\n"
     ]
    }
   ],
   "source": [
    "print(tfidf.get_feature_names())\n",
    "print(tfidf.idf_)"
   ]
  },
  {
   "cell_type": "code",
   "execution_count": null,
   "id": "949f2a18",
   "metadata": {},
   "outputs": [],
   "source": []
  }
 ],
 "metadata": {
  "kernelspec": {
   "display_name": "Python 3 (ipykernel)",
   "language": "python",
   "name": "python3"
  },
  "language_info": {
   "codemirror_mode": {
    "name": "ipython",
    "version": 3
   },
   "file_extension": ".py",
   "mimetype": "text/x-python",
   "name": "python",
   "nbconvert_exporter": "python",
   "pygments_lexer": "ipython3",
   "version": "3.9.7"
  }
 },
 "nbformat": 4,
 "nbformat_minor": 5
}
